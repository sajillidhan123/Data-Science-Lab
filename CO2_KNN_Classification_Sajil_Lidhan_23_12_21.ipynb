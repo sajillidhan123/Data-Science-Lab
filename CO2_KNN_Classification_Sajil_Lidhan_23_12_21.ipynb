{
  "nbformat": 4,
  "nbformat_minor": 0,
  "metadata": {
    "colab": {
      "name": "CO2 KNN Classification Sajil Lidhan -23-12-21",
      "provenance": [],
      "collapsed_sections": [],
      "include_colab_link": true
    },
    "kernelspec": {
      "name": "python3",
      "display_name": "Python 3"
    },
    "language_info": {
      "name": "python"
    }
  },
  "cells": [
    {
      "cell_type": "markdown",
      "metadata": {
        "id": "view-in-github",
        "colab_type": "text"
      },
      "source": [
        "<a href=\"https://colab.research.google.com/github/sajillidhan123/Data-Science-Lab/blob/main/CO2_KNN_Classification_Sajil_Lidhan_23_12_21.ipynb\" target=\"_parent\"><img src=\"https://colab.research.google.com/assets/colab-badge.svg\" alt=\"Open In Colab\"/></a>"
      ]
    },
    {
      "cell_type": "markdown",
      "source": [
        "Aim: Program to implement k-NN classification using any standard dataset\n",
        "available in the public domain and find the accuracy of the algorithm"
      ],
      "metadata": {
        "id": "1-G_D6HglkG5"
      }
    },
    {
      "cell_type": "markdown",
      "source": [
        "Algorithm: \n",
        "\n",
        "The class of an unknown instance is computed using the following steps:\n",
        "\n",
        "1. The distance between the unknown instance and all other training instances is computed.\n",
        "2. The k nearest neighbors are identified.\n",
        "3. The class labels of the k nearest neighbors are used to determine the class label of the unknown instance by using techniques like majority voting."
      ],
      "metadata": {
        "id": "O4oCOHITmArc"
      }
    },
    {
      "cell_type": "code",
      "source": [
        "from sklearn import neighbors, datasets, preprocessing\n",
        "from sklearn.model_selection import train_test_split\n",
        "from sklearn.metrics import accuracy_score\n",
        "from sklearn.neighbors import KNeighborsRegressor\n",
        "from sklearn.metrics import classification_report\n",
        "\n"
      ],
      "metadata": {
        "id": "IEpxOP01lnhy"
      },
      "execution_count": null,
      "outputs": []
    },
    {
      "cell_type": "code",
      "source": [
        "#Load the dataset\n",
        "iris=datasets.load_iris()\n",
        "#Split the datset\n",
        "X,y=iris.data[:,:],iris.target\n",
        "Xtrain,Xtest,y_train,y_test=train_test_split(X,y,stratify=y,random_state=108)\n",
        "scaler=preprocessing.StandardScaler().fit(Xtrain)\n",
        "Xtrain=scaler.transform(Xtrain)\n",
        "Xtest=scaler.transform(Xtest)"
      ],
      "metadata": {
        "id": "4Y1ZwsxFx5C_"
      },
      "execution_count": null,
      "outputs": []
    },
    {
      "cell_type": "code",
      "source": [
        "# Identify the ideal value for k\n",
        "scores=[]\n",
        "for k in range(1,15):\n",
        "  knn=neighbors.KNeighborsClassifier(n_neighbors=k)\n",
        "  knn.fit(Xtrain,y_train)\n",
        "  y_pred=knn.predict(Xtest)\n",
        "  scores.append(accuracy_score(y_test,y_pred))\n",
        "  print(\"When k=%s,accuracy is %s\"%(k,accuracy_score(y_test,y_pred)))"
      ],
      "metadata": {
        "id": "ajHWz-LCmg8r",
        "colab": {
          "base_uri": "https://localhost:8080/"
        },
        "outputId": "2a1b4c9d-9c0b-4dcd-e173-da3d1469c3ff"
      },
      "execution_count": null,
      "outputs": [
        {
          "output_type": "stream",
          "name": "stdout",
          "text": [
            "When k=1,accuracy is 0.9210526315789473\n",
            "When k=2,accuracy is 0.868421052631579\n",
            "When k=3,accuracy is 0.9473684210526315\n",
            "When k=4,accuracy is 0.9473684210526315\n",
            "When k=5,accuracy is 0.9473684210526315\n",
            "When k=6,accuracy is 0.9736842105263158\n",
            "When k=7,accuracy is 0.9736842105263158\n",
            "When k=8,accuracy is 0.9736842105263158\n",
            "When k=9,accuracy is 0.9736842105263158\n",
            "When k=10,accuracy is 0.9736842105263158\n",
            "When k=11,accuracy is 0.9736842105263158\n",
            "When k=12,accuracy is 0.9736842105263158\n",
            "When k=13,accuracy is 0.9736842105263158\n",
            "When k=14,accuracy is 0.9736842105263158\n"
          ]
        }
      ]
    },
    {
      "cell_type": "code",
      "source": [
        "# S4.2: Train kNN regressor model for 'k = 9'.\n",
        "knn9=neighbors.KNeighborsClassifier(n_neighbors=13)\n",
        "knn9.fit(Xtrain,y_train)\n",
        "\n",
        "# Perform prediction using 'predict()' function.\n",
        "y_test_pred=knn9.predict(Xtest)\n",
        "\n",
        "# Call the 'score()' function to check the accuracy score of the train set and test set.\n",
        "print(\"Test Set Accuracy:\",knn9.score(Xtest,y_test))\n",
        "print(\"Test Data ------>\",y_test)\n",
        "print(\"Predicted Data ------>\",y_pred)\n"
      ],
      "metadata": {
        "id": "Lappjoo8eZ51",
        "colab": {
          "base_uri": "https://localhost:8080/"
        },
        "outputId": "10e4978b-2fe7-48ce-e1d3-38b1aade55c7"
      },
      "execution_count": null,
      "outputs": [
        {
          "output_type": "stream",
          "name": "stdout",
          "text": [
            "Test Set Accuracy: 0.9736842105263158\n",
            "Test Data ------> [0 2 0 1 2 0 1 2 1 0 2 1 2 2 1 1 0 1 0 1 1 1 2 2 2 2 2 2 1 1 0 0 0 0 0 1 0\n",
            " 2]\n",
            "Predicted Data ------> [0 2 0 1 2 0 1 2 1 0 2 2 2 2 1 1 0 1 0 1 1 1 2 2 2 2 2 2 1 1 0 0 0 0 0 1 0\n",
            " 2]\n"
          ]
        }
      ]
    },
    {
      "cell_type": "code",
      "source": [
        "#Confusion Matrix\n",
        "from sklearn.metrics import confusion_matrix\n",
        "print(confusion_matrix(y_test,y_pred))\n",
        "print(classification_report(y_test,y_pred))"
      ],
      "metadata": {
        "colab": {
          "base_uri": "https://localhost:8080/"
        },
        "id": "3zYvyByuKAWi",
        "outputId": "8c31eb84-a7c6-46d0-adba-b52ba2b58bca"
      },
      "execution_count": null,
      "outputs": [
        {
          "output_type": "stream",
          "name": "stdout",
          "text": [
            "[[12  0  0]\n",
            " [ 0 12  1]\n",
            " [ 0  0 13]]\n",
            "              precision    recall  f1-score   support\n",
            "\n",
            "           0       1.00      1.00      1.00        12\n",
            "           1       1.00      0.92      0.96        13\n",
            "           2       0.93      1.00      0.96        13\n",
            "\n",
            "    accuracy                           0.97        38\n",
            "   macro avg       0.98      0.97      0.97        38\n",
            "weighted avg       0.98      0.97      0.97        38\n",
            "\n"
          ]
        }
      ]
    }
  ]
}